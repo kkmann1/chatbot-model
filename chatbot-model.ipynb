{
 "cells": [
  {
   "cell_type": "markdown",
   "metadata": {},
   "source": [
    "### Import Dialogue Data Set for Booking Travel"
   ]
  },
  {
   "cell_type": "code",
   "execution_count": 1,
   "metadata": {},
   "outputs": [
    {
     "name": "stdout",
     "output_type": "stream",
     "text": [
      "Populating the interactive namespace from numpy and matplotlib\n"
     ]
    }
   ],
   "source": [
    "from pandas.io.json import json_normalize\n",
    "import json\n",
    "import pandas as pd\n",
    "import numpy as np\n",
    "import matplotlib.pyplot as plt\n",
    "plt.style.use('ggplot')\n",
    "%pylab inline"
   ]
  },
  {
   "cell_type": "code",
   "execution_count": 2,
   "metadata": {
    "collapsed": true
   },
   "outputs": [],
   "source": [
    "with open('frames.json') as datafile:\n",
    "    data = json.load(datafile)\n",
    "    \n",
    "df = pd.DataFrame(json_normalize(data))"
   ]
  },
  {
   "cell_type": "markdown",
   "metadata": {},
   "source": [
    "### Top level columns are id, labels (userSurveyRating & wizardSurveyTaskSuccessful), turns, user_id, and wizard_id "
   ]
  },
  {
   "cell_type": "code",
   "execution_count": 3,
   "metadata": {},
   "outputs": [
    {
     "data": {
      "text/html": [
       "<div>\n",
       "<style>\n",
       "    .dataframe thead tr:only-child th {\n",
       "        text-align: right;\n",
       "    }\n",
       "\n",
       "    .dataframe thead th {\n",
       "        text-align: left;\n",
       "    }\n",
       "\n",
       "    .dataframe tbody tr th {\n",
       "        vertical-align: top;\n",
       "    }\n",
       "</style>\n",
       "<table border=\"1\" class=\"dataframe\">\n",
       "  <thead>\n",
       "    <tr style=\"text-align: right;\">\n",
       "      <th></th>\n",
       "      <th>id</th>\n",
       "      <th>labels.userSurveyRating</th>\n",
       "      <th>labels.wizardSurveyTaskSuccessful</th>\n",
       "      <th>turns</th>\n",
       "      <th>user_id</th>\n",
       "      <th>wizard_id</th>\n",
       "    </tr>\n",
       "  </thead>\n",
       "  <tbody>\n",
       "    <tr>\n",
       "      <th>0</th>\n",
       "      <td>e2c0fc6c-2134-4891-8353-ef16d8412c9a</td>\n",
       "      <td>4.0</td>\n",
       "      <td>True</td>\n",
       "      <td>[{'text': 'I'd like to book a trip to Atlantis...</td>\n",
       "      <td>U22HTHYNP</td>\n",
       "      <td>U21DKG18C</td>\n",
       "    </tr>\n",
       "    <tr>\n",
       "      <th>1</th>\n",
       "      <td>4a3bfa39-2c22-42c8-8694-32b4e34415e9</td>\n",
       "      <td>3.0</td>\n",
       "      <td>True</td>\n",
       "      <td>[{'text': 'Hello, I am looking to book a vacat...</td>\n",
       "      <td>U21E41CQP</td>\n",
       "      <td>U21DMV0KA</td>\n",
       "    </tr>\n",
       "    <tr>\n",
       "      <th>2</th>\n",
       "      <td>6e67ed28-e94c-4fab-96b6-68569a92682f</td>\n",
       "      <td>2.0</td>\n",
       "      <td>False</td>\n",
       "      <td>[{'text': 'Hello there i am looking to go on a...</td>\n",
       "      <td>U21RP4FCY</td>\n",
       "      <td>U21E0179B</td>\n",
       "    </tr>\n",
       "    <tr>\n",
       "      <th>3</th>\n",
       "      <td>5ae76e50-5b48-4166-9f6d-67aaabd7bcaa</td>\n",
       "      <td>5.0</td>\n",
       "      <td>True</td>\n",
       "      <td>[{'text': 'Hi I'd like to go to Caprica from B...</td>\n",
       "      <td>U22HTHYNP</td>\n",
       "      <td>U21DKG18C</td>\n",
       "    </tr>\n",
       "    <tr>\n",
       "      <th>4</th>\n",
       "      <td>24603086-bb53-431e-a0d8-1dcc63518ba9</td>\n",
       "      <td>5.0</td>\n",
       "      <td>True</td>\n",
       "      <td>[{'text': 'Hello, I am looking to book a trip ...</td>\n",
       "      <td>U21E41CQP</td>\n",
       "      <td>U21DMV0KA</td>\n",
       "    </tr>\n",
       "    <tr>\n",
       "      <th>5</th>\n",
       "      <td>bbd17a54-bc6c-4237-8f72-4778081fab0c</td>\n",
       "      <td>3.0</td>\n",
       "      <td>True</td>\n",
       "      <td>[{'text': 'Hey, i Want to go to St. Louis on t...</td>\n",
       "      <td>U21RP4FCY</td>\n",
       "      <td>U21E0179B</td>\n",
       "    </tr>\n",
       "    <tr>\n",
       "      <th>6</th>\n",
       "      <td>660f2f7a-b660-4f2c-aae9-e5cdb28d818c</td>\n",
       "      <td>4.0</td>\n",
       "      <td>False</td>\n",
       "      <td>[{'text': 'I'm looking for a trip to Gotham Ci...</td>\n",
       "      <td>U22HTHYNP</td>\n",
       "      <td>U21DKG18C</td>\n",
       "    </tr>\n",
       "    <tr>\n",
       "      <th>7</th>\n",
       "      <td>84823cb8-4e01-4dc1-8d10-1f2a5ef40b80</td>\n",
       "      <td>4.0</td>\n",
       "      <td>False</td>\n",
       "      <td>[{'text': 'Hello, I would like to book a 2-wee...</td>\n",
       "      <td>U21E41CQP</td>\n",
       "      <td>U21DMV0KA</td>\n",
       "    </tr>\n",
       "    <tr>\n",
       "      <th>8</th>\n",
       "      <td>3f238ba1-c385-415a-a511-998330c03750</td>\n",
       "      <td>4.0</td>\n",
       "      <td>False</td>\n",
       "      <td>[{'text': 'Hello, I am planning to book a trip...</td>\n",
       "      <td>U21RP4FCY</td>\n",
       "      <td>U21E0179B</td>\n",
       "    </tr>\n",
       "    <tr>\n",
       "      <th>9</th>\n",
       "      <td>45f2dfa5-d8ad-4f33-8994-68bc040e6901</td>\n",
       "      <td>5.0</td>\n",
       "      <td>False</td>\n",
       "      <td>[{'text': 'Hi, I need to go to Mos Eisley for ...</td>\n",
       "      <td>U22HTHYNP</td>\n",
       "      <td>U21DKG18C</td>\n",
       "    </tr>\n",
       "  </tbody>\n",
       "</table>\n",
       "</div>"
      ],
      "text/plain": [
       "                                     id  labels.userSurveyRating  \\\n",
       "0  e2c0fc6c-2134-4891-8353-ef16d8412c9a                      4.0   \n",
       "1  4a3bfa39-2c22-42c8-8694-32b4e34415e9                      3.0   \n",
       "2  6e67ed28-e94c-4fab-96b6-68569a92682f                      2.0   \n",
       "3  5ae76e50-5b48-4166-9f6d-67aaabd7bcaa                      5.0   \n",
       "4  24603086-bb53-431e-a0d8-1dcc63518ba9                      5.0   \n",
       "5  bbd17a54-bc6c-4237-8f72-4778081fab0c                      3.0   \n",
       "6  660f2f7a-b660-4f2c-aae9-e5cdb28d818c                      4.0   \n",
       "7  84823cb8-4e01-4dc1-8d10-1f2a5ef40b80                      4.0   \n",
       "8  3f238ba1-c385-415a-a511-998330c03750                      4.0   \n",
       "9  45f2dfa5-d8ad-4f33-8994-68bc040e6901                      5.0   \n",
       "\n",
       "   labels.wizardSurveyTaskSuccessful  \\\n",
       "0                               True   \n",
       "1                               True   \n",
       "2                              False   \n",
       "3                               True   \n",
       "4                               True   \n",
       "5                               True   \n",
       "6                              False   \n",
       "7                              False   \n",
       "8                              False   \n",
       "9                              False   \n",
       "\n",
       "                                               turns    user_id  wizard_id  \n",
       "0  [{'text': 'I'd like to book a trip to Atlantis...  U22HTHYNP  U21DKG18C  \n",
       "1  [{'text': 'Hello, I am looking to book a vacat...  U21E41CQP  U21DMV0KA  \n",
       "2  [{'text': 'Hello there i am looking to go on a...  U21RP4FCY  U21E0179B  \n",
       "3  [{'text': 'Hi I'd like to go to Caprica from B...  U22HTHYNP  U21DKG18C  \n",
       "4  [{'text': 'Hello, I am looking to book a trip ...  U21E41CQP  U21DMV0KA  \n",
       "5  [{'text': 'Hey, i Want to go to St. Louis on t...  U21RP4FCY  U21E0179B  \n",
       "6  [{'text': 'I'm looking for a trip to Gotham Ci...  U22HTHYNP  U21DKG18C  \n",
       "7  [{'text': 'Hello, I would like to book a 2-wee...  U21E41CQP  U21DMV0KA  \n",
       "8  [{'text': 'Hello, I am planning to book a trip...  U21RP4FCY  U21E0179B  \n",
       "9  [{'text': 'Hi, I need to go to Mos Eisley for ...  U22HTHYNP  U21DKG18C  "
      ]
     },
     "execution_count": 3,
     "metadata": {},
     "output_type": "execute_result"
    }
   ],
   "source": [
    "df.head(n=10)"
   ]
  },
  {
   "cell_type": "code",
   "execution_count": 34,
   "metadata": {},
   "outputs": [
    {
     "data": {
      "text/plain": [
       "array([<matplotlib.axes._subplots.AxesSubplot object at 0x152913748>,\n",
       "       <matplotlib.axes._subplots.AxesSubplot object at 0x152af6be0>], dtype=object)"
      ]
     },
     "execution_count": 34,
     "metadata": {},
     "output_type": "execute_result"
    },
    {
     "data": {
      "image/png": "[encoded data removed]",
      "text/plain": [
       "<matplotlib.figure.Figure at 0x1527dc9e8>"
      ]
     },
     "metadata": {},
     "output_type": "display_data"
    }
   ],
   "source": [
    "# Data Exploration: userSurveyRatings & wizardSurveyTaskSuccessful\n",
    "# If userSurvey is > 4 and wizard rated itself True, then good.\n",
    "# If userSurvey is < 4 and wizard rated itself True, then not good.\n",
    "# If wizard rated itself False and userSurvey is > 4, then treat with care but may discard it.\n",
    "# If wizard rated itself False and userSurvey is < 4, then not good but may discard it.\n",
    "\n",
    "df.hist(column=\"labels.userSurveyRating\",by=\"labels.wizardSurveyTaskSuccessful\")\n",
    "#plt.yscale(\"log\")"
   ]
  },
  {
   "cell_type": "code",
   "execution_count": 30,
   "metadata": {},
   "outputs": [
    {
     "data": {
      "text/plain": [
       "{'author': 'wizard',\n",
       " 'db': {'result': [[], [], [], [], [], []],\n",
       "  'search': [{'ARE_DATES_FLEXIBLE': 'true',\n",
       "    'DESTINATION_CITY': 'Atlantis',\n",
       "    'END_TIME': '1472011200000',\n",
       "    'NUM_ADULTS': '8',\n",
       "    'NUM_CHILDREN': '',\n",
       "    'ORIGIN_CITY': 'Caprica',\n",
       "    'PRICE_MIN': '1700',\n",
       "    'RESULT_LIMIT': '10',\n",
       "    'START_TIME': '1471060800000',\n",
       "    'timestamp': 1471272454.542},\n",
       "   {'ARE_DATES_FLEXIBLE': 'true',\n",
       "    'DESTINATION_CITY': 'Atlantis',\n",
       "    'END_TIME': '1472011200000',\n",
       "    'NUM_ADULTS': '8',\n",
       "    'NUM_CHILDREN': '',\n",
       "    'ORIGIN_CITY': 'Caprica',\n",
       "    'PRICE_MIN': '1700',\n",
       "    'RESULT_LIMIT': '10',\n",
       "    'START_TIME': '1471060800000',\n",
       "    'timestamp': 1471272466.008},\n",
       "   {'ARE_DATES_FLEXIBLE': 'true',\n",
       "    'DESTINATION_CITY': 'Neverland',\n",
       "    'END_TIME': '1472011200000',\n",
       "    'NUM_ADULTS': '5',\n",
       "    'NUM_CHILDREN': '',\n",
       "    'ORIGIN_CITY': 'Caprica',\n",
       "    'PRICE_MAX': '1900',\n",
       "    'RESULT_LIMIT': '10',\n",
       "    'START_TIME': '1471060800000',\n",
       "    'timestamp': 1471272562.484},\n",
       "   {'ARE_DATES_FLEXIBLE': 'true',\n",
       "    'DESTINATION_CITY': 'Neverland',\n",
       "    'END_TIME': '1472011200000',\n",
       "    'NUM_ADULTS': '5',\n",
       "    'NUM_CHILDREN': '',\n",
       "    'ORIGIN_CITY': 'Caprica',\n",
       "    'PRICE_MAX': '1900',\n",
       "    'RESULT_LIMIT': '10',\n",
       "    'START_TIME': '1471060800000',\n",
       "    'timestamp': 1471272571.739},\n",
       "   {'ARE_DATES_FLEXIBLE': 'true',\n",
       "    'DESTINATION_CITY': 'Neverland',\n",
       "    'END_TIME': 'NaN',\n",
       "    'NUM_ADULTS': '5',\n",
       "    'NUM_CHILDREN': '',\n",
       "    'ORIGIN_CITY': 'Caprica',\n",
       "    'RESULT_LIMIT': '10',\n",
       "    'START_TIME': '1471060800000',\n",
       "    'timestamp': 1471272625.733},\n",
       "   {'ARE_DATES_FLEXIBLE': 'true',\n",
       "    'DESTINATION_CITY': 'Neverland',\n",
       "    'END_TIME': 'NaN',\n",
       "    'NUM_ADULTS': '5',\n",
       "    'NUM_CHILDREN': '',\n",
       "    'ORIGIN_CITY': 'Caprica',\n",
       "    'RESULT_LIMIT': '10',\n",
       "    'START_TIME': '1471060800000',\n",
       "    'timestamp': 1471272628.27}]},\n",
       " 'labels': {'active_frame': 2,\n",
       "  'acts': [{'args': [{'key': 'ref',\n",
       "      'val': [{'annotations': [{'key': 'str_date', 'val': None}],\n",
       "        'frame': 2,\n",
       "        'fromrange': False}]}],\n",
       "    'name': 'no_result'},\n",
       "   {'args': [{'key': 'str_date'}, {'key': 'end_date'}], 'name': 'suggest'}],\n",
       "  'frames': [{'binary_questions': [],\n",
       "    'compare_requests': [],\n",
       "    'frame_id': 1,\n",
       "    'frame_parent_id': None,\n",
       "    'info': {'NO_RESULT': [{'negated': False, 'val': True}],\n",
       "     'budget': [{'negated': False, 'val': '1700.0'}],\n",
       "     'dst_city': [{'negated': False, 'val': 'Atlantis'}],\n",
       "     'intent': [{'negated': False, 'val': 'book'}],\n",
       "     'n_adults': [{'negated': False, 'val': '8'}],\n",
       "     'or_city': [{'negated': False, 'val': 'Caprica'}],\n",
       "     'str_date': [{'negated': False, 'val': 'august 13'}]},\n",
       "    'requests': []},\n",
       "   {'binary_questions': [],\n",
       "    'compare_requests': [],\n",
       "    'frame_id': 2,\n",
       "    'frame_parent_id': 1,\n",
       "    'info': {'NO_RESULT': [{'negated': False, 'val': True}],\n",
       "     'budget': [{'negated': False, 'val': '1900.0'}],\n",
       "     'dst_city': [{'negated': False, 'val': 'Neverland'}],\n",
       "     'intent': [{'negated': False, 'val': 'book'}],\n",
       "     'n_adults': [{'negated': False, 'val': '5'}],\n",
       "     'or_city': [{'negated': False, 'val': 'Caprica'}],\n",
       "     'str_date': [{'negated': False, 'val': 'august 13'}]},\n",
       "    'requests': []}]},\n",
       " 'text': 'I checked the availability for this date and there were no trips available.  Would you like to select some alternate dates?',\n",
       " 'timestamp': 1471272800073.0}"
      ]
     },
     "execution_count": 30,
     "metadata": {},
     "output_type": "execute_result"
    }
   ],
   "source": [
    "# Looking at the turns column, which is still nested.\n",
    "# Each row contains one entire conversation.\n",
    "# Each portion of the conversation can be called within this row.\n",
    "# From each conversation, the keys can be accessed to return some meaningful information.\n",
    "\n",
    "df['turns'][0][3]"
   ]
  },
  {
   "cell_type": "code",
   "execution_count": null,
   "metadata": {
    "collapsed": true
   },
   "outputs": [],
   "source": []
  }
 ],
 "metadata": {
  "kernelspec": {
   "display_name": "Python 3",
   "language": "python",
   "name": "python3"
  },
  "language_info": {
   "codemirror_mode": {
    "name": "ipython",
    "version": 3
   },
   "file_extension": ".py",
   "mimetype": "text/x-python",
   "name": "python",
   "nbconvert_exporter": "python",
   "pygments_lexer": "ipython3",
   "version": "3.6.1"
  }
 },
 "nbformat": 4,
 "nbformat_minor": 2
}
