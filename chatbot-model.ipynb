{
 "cells": [
  {
   "cell_type": "markdown",
   "metadata": {},
   "source": [
    "# Chatbot Conversations for Booking Travel\n",
    "Data and background from: https://datasets.maluuba.com/Frames\n",
    "\n",
    "Sample dialog in tree viewer: https://codebeautify.org/jsonviewer/cb839c4f\n"
   ]
  },
  {
   "cell_type": "markdown",
   "metadata": {},
   "source": [
    "### Libraries and importing the data set"
   ]
  },
  {
   "cell_type": "code",
   "execution_count": 1,
   "metadata": {},
   "outputs": [
    {
     "name": "stdout",
     "output_type": "stream",
     "text": [
      "Populating the interactive namespace from numpy and matplotlib\n"
     ]
    }
   ],
   "source": [
    "# Libraries\n",
    "\n",
    "from pandas.io.json import json_normalize\n",
    "import json\n",
    "import pandas as pd\n",
    "import numpy as np\n",
    "import matplotlib.pyplot as plt\n",
    "plt.style.use('ggplot')\n",
    "%pylab inline\n",
    "from collections import Counter\n",
    "from textblob import TextBlob\n",
    "from sklearn import feature_extraction, model_selection, metrics"
   ]
  },
  {
   "cell_type": "code",
   "execution_count": 2,
   "metadata": {
    "collapsed": true
   },
   "outputs": [],
   "source": [
    "# Importing json file\n",
    "\n",
    "with open('frames.json') as datafile:\n",
    "    data = json.load(datafile)\n",
    "    \n",
    "df = pd.DataFrame(json_normalize(data))"
   ]
  },
  {
   "cell_type": "markdown",
   "metadata": {},
   "source": [
    "### Prepping data: Capturing pertinent information from nested columns\n",
    "\n",
    "Each dialogue contains a *Turns* column, featuring a nested dictionary of values. These include the text of each turn, what labels these turns contain, and what *acts*, or purpose, these turns are intending to convey. I have had difficulty flattening such a lengthy dictionary, and have instead chosen to pull out the pieces of information I need with for loops."
   ]
  },
  {
   "cell_type": "code",
   "execution_count": 3,
   "metadata": {
    "collapsed": true
   },
   "outputs": [],
   "source": [
    "# Making a new dataframe that takes certain pieces out of Turns\n",
    "\n",
    "turns, activeFrame, numUsers, numWizard, lilacts, bigacts = ([] for i in range(6))\n",
    "\n",
    "# For each dialogue (observation) in the original dataframe\n",
    "for item, frame in df['turns'].iteritems():\n",
    "# Obtain number of turns per dialogue\n",
    "    turns.append(len(df['turns'][item]))\n",
    "# Obtain number of active frames per dialogue\n",
    "    activeFrame.append(df['turns'][item][(len(df['turns'][item]) - 1)]['labels']['active_frame'])\n",
    "# Iterating on each turn in an observation/dialogue to get some label info\n",
    "    for i in range(len(df['turns'][item])):\n",
    "# Iterating on each label in a Turn\n",
    "        for j in range(len(df['turns'][item][i]['labels']['acts'])):\n",
    "# Name of acts in each turn\n",
    "            lilacts.append((df['turns'][item][i]['labels']['acts'][j]['name']))\n",
    "\n",
    "    bigacts.append(lilacts)\n",
    "    lilacts = []"
   ]
  },
  {
   "cell_type": "code",
   "execution_count": 4,
   "metadata": {},
   "outputs": [
    {
     "data": {
      "text/html": [
       "<div>\n",
       "<style>\n",
       "    .dataframe thead tr:only-child th {\n",
       "        text-align: right;\n",
       "    }\n",
       "\n",
       "    .dataframe thead th {\n",
       "        text-align: left;\n",
       "    }\n",
       "\n",
       "    .dataframe tbody tr th {\n",
       "        vertical-align: top;\n",
       "    }\n",
       "</style>\n",
       "<table border=\"1\" class=\"dataframe\">\n",
       "  <thead>\n",
       "    <tr style=\"text-align: right;\">\n",
       "      <th></th>\n",
       "      <th>userRating</th>\n",
       "      <th>wizardRating</th>\n",
       "      <th>numTurns</th>\n",
       "      <th>numFrames</th>\n",
       "      <th>acts</th>\n",
       "    </tr>\n",
       "  </thead>\n",
       "  <tbody>\n",
       "    <tr>\n",
       "      <th>0</th>\n",
       "      <td>4.0</td>\n",
       "      <td>1</td>\n",
       "      <td>7</td>\n",
       "      <td>3</td>\n",
       "      <td>[inform, inform, no_result, suggest, sorry, in...</td>\n",
       "    </tr>\n",
       "    <tr>\n",
       "      <th>1</th>\n",
       "      <td>3.0</td>\n",
       "      <td>1</td>\n",
       "      <td>20</td>\n",
       "      <td>8</td>\n",
       "      <td>[inform, inform, greeting, sorry, no_result, i...</td>\n",
       "    </tr>\n",
       "    <tr>\n",
       "      <th>2</th>\n",
       "      <td>2.0</td>\n",
       "      <td>0</td>\n",
       "      <td>21</td>\n",
       "      <td>7</td>\n",
       "      <td>[inform, inform, greeting, request, inform, re...</td>\n",
       "    </tr>\n",
       "    <tr>\n",
       "      <th>3</th>\n",
       "      <td>5.0</td>\n",
       "      <td>1</td>\n",
       "      <td>13</td>\n",
       "      <td>6</td>\n",
       "      <td>[inform, inform, greeting, request, inform, re...</td>\n",
       "    </tr>\n",
       "    <tr>\n",
       "      <th>4</th>\n",
       "      <td>5.0</td>\n",
       "      <td>1</td>\n",
       "      <td>9</td>\n",
       "      <td>2</td>\n",
       "      <td>[inform, inform, greeting, request, inform, in...</td>\n",
       "    </tr>\n",
       "  </tbody>\n",
       "</table>\n",
       "</div>"
      ],
      "text/plain": [
       "   userRating  wizardRating  numTurns  numFrames  \\\n",
       "0         4.0             1         7          3   \n",
       "1         3.0             1        20          8   \n",
       "2         2.0             0        21          7   \n",
       "3         5.0             1        13          6   \n",
       "4         5.0             1         9          2   \n",
       "\n",
       "                                                acts  \n",
       "0  [inform, inform, no_result, suggest, sorry, in...  \n",
       "1  [inform, inform, greeting, sorry, no_result, i...  \n",
       "2  [inform, inform, greeting, request, inform, re...  \n",
       "3  [inform, inform, greeting, request, inform, re...  \n",
       "4  [inform, inform, greeting, request, inform, in...  "
      ]
     },
     "execution_count": 4,
     "metadata": {},
     "output_type": "execute_result"
    }
   ],
   "source": [
    "# New dataframe appending the for loops above\n",
    "\n",
    "results = pd.DataFrame()\n",
    "results['userRating'] = df['labels.userSurveyRating']\n",
    "# Wizard Rating is 1 for True, 0 for False now\n",
    "results['wizardRating'] = df['labels.wizardSurveyTaskSuccessful'].astype(int)\n",
    "results['numTurns'] = turns\n",
    "results['numFrames'] = activeFrame\n",
    "results['acts'] = bigacts\n",
    "results.head(n=5)"
   ]
  },
  {
   "cell_type": "markdown",
   "metadata": {},
   "source": [
    "*Acts* (the purposes addressed in each turn of the dialogue) are currently categorical. Acts mentioned per dialogue are stored under *bigacts*. In order to convert the information in *bigacts* to a numerical value, I am appending the following columns:\n",
    "\n",
    "1. Number of different acts mentioned per dialogue\n",
    "2. Number of acts per turn in the dialogue\n",
    "3. 1 if a type of act is utilized in the dialogue, 0 if not.\n",
    "\n",
    "See below code for act frequencies amongst the entire dataset. *inform* is the most reoccuring act, followed by *no_result*. In the end, because inform is so frequent, I will not append inform to the final dataset."
   ]
  },
  {
   "cell_type": "code",
   "execution_count": 5,
   "metadata": {},
   "outputs": [
    {
     "data": {
      "text/plain": [
       "Counter({'affirm': 543,\n",
       "         'canthelp': 61,\n",
       "         'confirm': 384,\n",
       "         'goodbye': 229,\n",
       "         'greeting': 603,\n",
       "         'hearmore': 100,\n",
       "         'inform': 10918,\n",
       "         'moreinfo': 244,\n",
       "         'negate': 391,\n",
       "         'no_result': 1218,\n",
       "         'offer': 4097,\n",
       "         'reject': 14,\n",
       "         'request': 3438,\n",
       "         'request_alts': 216,\n",
       "         'request_compare': 214,\n",
       "         'sorry': 756,\n",
       "         'suggest': 1821,\n",
       "         'switch_frame': 2102,\n",
       "         'thankyou': 859,\n",
       "         'you_are_welcome': 87})"
      ]
     },
     "execution_count": 5,
     "metadata": {},
     "output_type": "execute_result"
    }
   ],
   "source": [
    "flat_list = [item for sublist in bigacts for item in sublist]\n",
    "Counter(flat_list)"
   ]
  },
  {
   "cell_type": "code",
   "execution_count": 5,
   "metadata": {
    "collapsed": true
   },
   "outputs": [],
   "source": [
    "# Lengthy for loop to count what acts occur for each dialogue\n",
    "\n",
    "uniques, average, inform, noresult, suggest, sorry, negate, thankyou, greeting, switchframe, request, affirm, offer, requestalts, goodbye, requestcompare, moreinfo, confirm, canthelp, hearmore, youarewelcome, reject = ([] for i in range(22))\n",
    "\n",
    "for item, frame in results['acts'].iteritems():\n",
    "    uniques.append(len(set(results['acts'][item])))\n",
    "    average.append((len(results['acts'][item]))/results['numTurns'][item])\n",
    "    inform.append(results['acts'][item].count('inform') > 0)\n",
    "    noresult.append(results['acts'][item].count('no_result') > 0)\n",
    "    suggest.append(results['acts'][item].count('suggest') > 0)\n",
    "    sorry.append(results['acts'][item].count('sorry') > 0)\n",
    "    negate.append(results['acts'][item].count('negate') > 0)\n",
    "    thankyou.append(results['acts'][item].count('thankyou') > 0)\n",
    "    greeting.append(results['acts'][item].count('greeting') > 0)\n",
    "    switchframe.append(results['acts'][item].count('switch_frame') > 0)\n",
    "    request.append(results['acts'][item].count('request') > 0)\n",
    "    affirm.append(results['acts'][item].count('affirm') > 0)\n",
    "    offer.append(results['acts'][item].count('offer') > 0)\n",
    "    requestalts.append(results['acts'][item].count('request_alts') > 0)\n",
    "    goodbye.append(results['acts'][item].count('goodbye') > 0)\n",
    "    requestcompare.append(results['acts'][item].count('request_compare') > 0)\n",
    "    moreinfo.append(results['acts'][item].count('moreinfo') > 0)\n",
    "    confirm.append(results['acts'][item].count('confirm') > 0)\n",
    "    canthelp.append(results['acts'][item].count('canthelp') > 0)\n",
    "    hearmore.append(results['acts'][item].count('hearmore') > 0)\n",
    "    youarewelcome.append(results['acts'][item].count('you_are_welcome') > 0)\n",
    "    reject.append(results['acts'][item].count('reject') > 0)\n",
    "results['acts_unique'] = uniques\n",
    "results['acts_average'] = average\n",
    "results['acts_inform'] = inform\n",
    "results['acts_no_result'] = noresult\n",
    "results['acts_suggest'] = suggest\n",
    "results['acts_sorry'] = sorry\n",
    "results['acts_negate'] = negate\n",
    "results['acts_thankyou'] = thankyou\n",
    "results['acts_greeting'] = greeting\n",
    "results['acts_switch_frame'] = switchframe\n",
    "results['acts_request'] = request\n",
    "results['acts_affirm'] = affirm\n",
    "results['acts_offer'] = offer\n",
    "results['acts_request_alts'] = requestalts\n",
    "results['acts_goodbye'] = goodbye\n",
    "results['acts_request_compare'] = requestcompare\n",
    "results['acts_moreinfo'] = moreinfo\n",
    "results['acts_confirm'] = confirm\n",
    "results['acts_canthelp'] = canthelp\n",
    "results['acts_hearmore'] = hearmore\n",
    "results['acts_you_are_welcome'] = youarewelcome\n",
    "results['acts_reject'] = reject\n",
    "\n",
    "del results['acts']"
   ]
  },
  {
   "cell_type": "code",
   "execution_count": 6,
   "metadata": {
    "collapsed": true
   },
   "outputs": [],
   "source": [
    "# Converting acts from bool to int\n",
    "\n",
    "results.iloc[:,6::] = results.iloc[:,6::].astype(int)"
   ]
  },
  {
   "cell_type": "code",
   "execution_count": 7,
   "metadata": {
    "collapsed": true
   },
   "outputs": [],
   "source": [
    "# Decided to delete the act \"inform\" from the dataframe, as it is the most commonly occurring act and may overwhelm\n",
    "# the results.\n",
    "\n",
    "del results['acts_inform']"
   ]
  },
  {
   "cell_type": "markdown",
   "metadata": {},
   "source": [
    "### Prepping data: Sentiment Analysis"
   ]
  },
  {
   "cell_type": "markdown",
   "metadata": {},
   "source": [
    "I'd like to understand the overall sentiment (from the user only) per dialogue. Therefore, the sentiment has been averaged over all of the user's turns per dialogue.\n",
    "\n",
    "* Polarity on a -1 to 1 scale, where -1 is the most negative and 1 is the most positive.\n",
    "* Subjectivity on a 0 to 1 scale, where 0 is the most objective and 1 is the most subjective"
   ]
  },
  {
   "cell_type": "code",
   "execution_count": 8,
   "metadata": {
    "collapsed": true
   },
   "outputs": [],
   "source": [
    "p_math, s_math, pol, sub = ([] for i in range(4))\n",
    "\n",
    "for item, frame in df['turns'].iteritems():\n",
    "\n",
    "# Iterating on each Turn in an observation/dialogue\n",
    "    for i in range(len(df['turns'][item])):\n",
    "        if df['turns'][item][i]['author'] == 'user':\n",
    "            p_math.append(TextBlob(df['turns'][item][i]['text']).sentiment.polarity)\n",
    "            s_math.append(TextBlob(df['turns'][item][i]['text']).sentiment.subjectivity)\n",
    "    pol.append(sum(p_math)/len(p_math))\n",
    "    sub.append(sum(s_math)/len(s_math))\n",
    "    p_math, s_math = ([] for i in range(2))\n",
    "\n",
    "results['text_polarity'] = pol\n",
    "results['text_subjectivity'] = sub"
   ]
  },
  {
   "cell_type": "code",
   "execution_count": 9,
   "metadata": {},
   "outputs": [
    {
     "data": {
      "text/html": [
       "<div>\n",
       "<style>\n",
       "    .dataframe thead tr:only-child th {\n",
       "        text-align: right;\n",
       "    }\n",
       "\n",
       "    .dataframe thead th {\n",
       "        text-align: left;\n",
       "    }\n",
       "\n",
       "    .dataframe tbody tr th {\n",
       "        vertical-align: top;\n",
       "    }\n",
       "</style>\n",
       "<table border=\"1\" class=\"dataframe\">\n",
       "  <thead>\n",
       "    <tr style=\"text-align: right;\">\n",
       "      <th></th>\n",
       "      <th>userRating</th>\n",
       "      <th>wizardRating</th>\n",
       "      <th>numTurns</th>\n",
       "      <th>numFrames</th>\n",
       "      <th>acts_unique</th>\n",
       "      <th>acts_average</th>\n",
       "      <th>acts_no_result</th>\n",
       "      <th>acts_suggest</th>\n",
       "      <th>acts_sorry</th>\n",
       "      <th>acts_negate</th>\n",
       "      <th>...</th>\n",
       "      <th>acts_goodbye</th>\n",
       "      <th>acts_request_compare</th>\n",
       "      <th>acts_moreinfo</th>\n",
       "      <th>acts_confirm</th>\n",
       "      <th>acts_canthelp</th>\n",
       "      <th>acts_hearmore</th>\n",
       "      <th>acts_you_are_welcome</th>\n",
       "      <th>acts_reject</th>\n",
       "      <th>text_polarity</th>\n",
       "      <th>text_subjectivity</th>\n",
       "    </tr>\n",
       "  </thead>\n",
       "  <tbody>\n",
       "    <tr>\n",
       "      <th>0</th>\n",
       "      <td>4.0</td>\n",
       "      <td>1</td>\n",
       "      <td>7</td>\n",
       "      <td>3</td>\n",
       "      <td>6</td>\n",
       "      <td>2.000000</td>\n",
       "      <td>1</td>\n",
       "      <td>1</td>\n",
       "      <td>1</td>\n",
       "      <td>1</td>\n",
       "      <td>...</td>\n",
       "      <td>0</td>\n",
       "      <td>0</td>\n",
       "      <td>0</td>\n",
       "      <td>0</td>\n",
       "      <td>0</td>\n",
       "      <td>0</td>\n",
       "      <td>0</td>\n",
       "      <td>0</td>\n",
       "      <td>-0.060268</td>\n",
       "      <td>0.118304</td>\n",
       "    </tr>\n",
       "    <tr>\n",
       "      <th>1</th>\n",
       "      <td>3.0</td>\n",
       "      <td>1</td>\n",
       "      <td>20</td>\n",
       "      <td>8</td>\n",
       "      <td>9</td>\n",
       "      <td>1.600000</td>\n",
       "      <td>1</td>\n",
       "      <td>1</td>\n",
       "      <td>1</td>\n",
       "      <td>1</td>\n",
       "      <td>...</td>\n",
       "      <td>0</td>\n",
       "      <td>0</td>\n",
       "      <td>0</td>\n",
       "      <td>0</td>\n",
       "      <td>0</td>\n",
       "      <td>0</td>\n",
       "      <td>0</td>\n",
       "      <td>0</td>\n",
       "      <td>0.187500</td>\n",
       "      <td>0.327500</td>\n",
       "    </tr>\n",
       "    <tr>\n",
       "      <th>2</th>\n",
       "      <td>2.0</td>\n",
       "      <td>0</td>\n",
       "      <td>21</td>\n",
       "      <td>7</td>\n",
       "      <td>11</td>\n",
       "      <td>1.380952</td>\n",
       "      <td>1</td>\n",
       "      <td>1</td>\n",
       "      <td>0</td>\n",
       "      <td>1</td>\n",
       "      <td>...</td>\n",
       "      <td>1</td>\n",
       "      <td>0</td>\n",
       "      <td>0</td>\n",
       "      <td>0</td>\n",
       "      <td>0</td>\n",
       "      <td>0</td>\n",
       "      <td>0</td>\n",
       "      <td>0</td>\n",
       "      <td>0.134091</td>\n",
       "      <td>0.308081</td>\n",
       "    </tr>\n",
       "    <tr>\n",
       "      <th>3</th>\n",
       "      <td>5.0</td>\n",
       "      <td>1</td>\n",
       "      <td>13</td>\n",
       "      <td>6</td>\n",
       "      <td>9</td>\n",
       "      <td>1.769231</td>\n",
       "      <td>1</td>\n",
       "      <td>1</td>\n",
       "      <td>0</td>\n",
       "      <td>0</td>\n",
       "      <td>...</td>\n",
       "      <td>0</td>\n",
       "      <td>0</td>\n",
       "      <td>0</td>\n",
       "      <td>0</td>\n",
       "      <td>0</td>\n",
       "      <td>0</td>\n",
       "      <td>0</td>\n",
       "      <td>0</td>\n",
       "      <td>0.095000</td>\n",
       "      <td>0.124286</td>\n",
       "    </tr>\n",
       "    <tr>\n",
       "      <th>4</th>\n",
       "      <td>5.0</td>\n",
       "      <td>1</td>\n",
       "      <td>9</td>\n",
       "      <td>2</td>\n",
       "      <td>7</td>\n",
       "      <td>1.777778</td>\n",
       "      <td>0</td>\n",
       "      <td>0</td>\n",
       "      <td>0</td>\n",
       "      <td>0</td>\n",
       "      <td>...</td>\n",
       "      <td>0</td>\n",
       "      <td>1</td>\n",
       "      <td>0</td>\n",
       "      <td>0</td>\n",
       "      <td>0</td>\n",
       "      <td>0</td>\n",
       "      <td>0</td>\n",
       "      <td>0</td>\n",
       "      <td>0.106667</td>\n",
       "      <td>0.273333</td>\n",
       "    </tr>\n",
       "  </tbody>\n",
       "</table>\n",
       "<p>5 rows × 27 columns</p>\n",
       "</div>"
      ],
      "text/plain": [
       "   userRating  wizardRating  numTurns  numFrames  acts_unique  acts_average  \\\n",
       "0         4.0             1         7          3            6      2.000000   \n",
       "1         3.0             1        20          8            9      1.600000   \n",
       "2         2.0             0        21          7           11      1.380952   \n",
       "3         5.0             1        13          6            9      1.769231   \n",
       "4         5.0             1         9          2            7      1.777778   \n",
       "\n",
       "   acts_no_result  acts_suggest  acts_sorry  acts_negate        ...          \\\n",
       "0               1             1           1            1        ...           \n",
       "1               1             1           1            1        ...           \n",
       "2               1             1           0            1        ...           \n",
       "3               1             1           0            0        ...           \n",
       "4               0             0           0            0        ...           \n",
       "\n",
       "   acts_goodbye  acts_request_compare  acts_moreinfo  acts_confirm  \\\n",
       "0             0                     0              0             0   \n",
       "1             0                     0              0             0   \n",
       "2             1                     0              0             0   \n",
       "3             0                     0              0             0   \n",
       "4             0                     1              0             0   \n",
       "\n",
       "   acts_canthelp  acts_hearmore  acts_you_are_welcome  acts_reject  \\\n",
       "0              0              0                     0            0   \n",
       "1              0              0                     0            0   \n",
       "2              0              0                     0            0   \n",
       "3              0              0                     0            0   \n",
       "4              0              0                     0            0   \n",
       "\n",
       "   text_polarity  text_subjectivity  \n",
       "0      -0.060268           0.118304  \n",
       "1       0.187500           0.327500  \n",
       "2       0.134091           0.308081  \n",
       "3       0.095000           0.124286  \n",
       "4       0.106667           0.273333  \n",
       "\n",
       "[5 rows x 27 columns]"
      ]
     },
     "execution_count": 9,
     "metadata": {},
     "output_type": "execute_result"
    }
   ],
   "source": [
    "results.head(n=5)"
   ]
  },
  {
   "cell_type": "markdown",
   "metadata": {},
   "source": [
    "### Data Exploration: userSurveyRatings and wizardSurveyTaskSuccessful\n",
    "\n",
    "There are two labels in this data set:\n",
    "\n",
    "* *userRating*: How the user rated the dialogue, from 0 (bad) to 5 (good)\n",
    "* *wizardRating*: How the chatbot rated its ability to solve the user's inquiries, True or False."
   ]
  },
  {
   "cell_type": "code",
   "execution_count": 319,
   "metadata": {},
   "outputs": [
    {
     "data": {
      "text/plain": [
       "array([<matplotlib.axes._subplots.AxesSubplot object at 0x19988cf98>,\n",
       "       <matplotlib.axes._subplots.AxesSubplot object at 0x11b197978>], dtype=object)"
      ]
     },
     "execution_count": 319,
     "metadata": {},
     "output_type": "execute_result"
    },
    {
     "data": {
      "image/png": "[encoded data removed]",
      "text/plain": [
       "<matplotlib.figure.Figure at 0x19988c198>"
      ]
     },
     "metadata": {},
     "output_type": "display_data"
    }
   ],
   "source": [
    "results.hist(column=\"userRating\",by=\"wizardRating\")"
   ]
  },
  {
   "cell_type": "markdown",
   "metadata": {},
   "source": [
    "### Cleaning the data set and prepping for classification modeling\n",
    "\n",
    "Most of the dialogues have a label of True for *wizardRating*. To make the model based on only one label, I am removing all *wizardRating* = False points, and then deleting the wizardRating label from the data set.\n",
    "\n",
    "There were also three rows in which *userRating* was NaN, so these will be dropped as well.\n",
    "\n",
    "Finally, I will convert *userRating* to int."
   ]
  },
  {
   "cell_type": "code",
   "execution_count": 10,
   "metadata": {
    "collapsed": true
   },
   "outputs": [],
   "source": [
    "cleaned = results[(results['userRating'].notnull()) & (results['wizardRating'] != 0)]\n",
    "cleaned = cleaned.reset_index()\n",
    "del cleaned['index']\n",
    "del cleaned['wizardRating']\n",
    "cleaned['userRating'] = cleaned.astype(int)"
   ]
  },
  {
   "cell_type": "code",
   "execution_count": 11,
   "metadata": {
    "collapsed": true
   },
   "outputs": [],
   "source": [
    "# Creating the feature matrix (X) and target (y)\n",
    "\n",
    "y = cleaned.iloc[:,0]\n",
    "X = cleaned.iloc[:,1::]\n",
    "\n",
    "X_train, X_test, y_train, y_test = model_selection.train_test_split(X, y, test_size=0.25, random_state=33)"
   ]
  },
  {
   "cell_type": "markdown",
   "metadata": {},
   "source": [
    "### Classification Models: All Features\n",
    "\n",
    "Running some classification models:"
   ]
  },
  {
   "cell_type": "markdown",
   "metadata": {},
   "source": [
    "#### Libraries and Pipeline w/ K-Best + SVM"
   ]
  },
  {
   "cell_type": "code",
   "execution_count": 16,
   "metadata": {},
   "outputs": [],
   "source": [
    "from sklearn.preprocessing import StandardScaler\n",
    "from sklearn import svm\n",
    "from sklearn.ensemble import RandomForestClassifier\n",
    "from sklearn.naive_bayes import GaussianNB\n",
    "from sklearn.feature_selection import SelectKBest\n",
    "from sklearn.pipeline import Pipeline\n",
    "\n",
    "\n",
    "scalar = StandardScaler() #Scaling the features\n",
    "select = SelectKBest(k=3)\n",
    "svm_clf = svm.SVC()\n",
    "#nb_clf = GaussianNB()\n",
    "\n",
    "steps = [('scalar', scalar),\n",
    "        ('feature_selection', select),\n",
    "        ('svm', svm_clf)]\n",
    "\n",
    "pipeline = Pipeline(steps)"
   ]
  },
  {
   "cell_type": "code",
   "execution_count": 18,
   "metadata": {},
   "outputs": [
    {
     "name": "stdout",
     "output_type": "stream",
     "text": [
      "Test Score:  0.745341614907\n"
     ]
    }
   ],
   "source": [
    "pipeline.fit(X_train, y_train)\n",
    "pipeline_pred = pipeline.predict(X_test)\n",
    "print('Test Score: ',metrics.accuracy_score(y_test, pipeline_pred))"
   ]
  },
  {
   "cell_type": "markdown",
   "metadata": {},
   "source": [
    "#### Pipeline w/ K-Best + Random Forest Model:"
   ]
  },
  {
   "cell_type": "code",
   "execution_count": 19,
   "metadata": {},
   "outputs": [
    {
     "name": "stdout",
     "output_type": "stream",
     "text": [
      "Test Score:  0.745341614907\n"
     ]
    }
   ],
   "source": [
    "rf_clf = RandomForestClassifier()\n",
    "steps_rf = [('scalar', scalar),\n",
    "            ('feature_selection', select),\n",
    "            ('random_forest', rf_clf)]\n",
    "\n",
    "pipeline_rf = Pipeline(steps_rf)\n",
    "\n",
    "pipeline_rf.fit(X_train, y_train)\n",
    "pipeline_rf_pred = pipeline_rf.predict(X_test)\n",
    "print('Test Score: ',metrics.accuracy_score(y_test, pipeline_rf_pred))"
   ]
  },
  {
   "cell_type": "markdown",
   "metadata": {},
   "source": [
    "#### Pipeline w/ K-Best + Naive Bayes Model:"
   ]
  },
  {
   "cell_type": "code",
   "execution_count": 20,
   "metadata": {},
   "outputs": [
    {
     "name": "stdout",
     "output_type": "stream",
     "text": [
      "Test Score:  0.670807453416\n"
     ]
    }
   ],
   "source": [
    "nb_clf = GaussianNB()\n",
    "steps_nb = [('scalar', scalar),\n",
    "            ('feature_selection', select),\n",
    "            ('naive_bayes', nb_clf)]\n",
    "\n",
    "pipeline_nb = Pipeline(steps_nb)\n",
    "\n",
    "pipeline_nb.fit(X_train, y_train)\n",
    "pipeline_nb_pred = pipeline_nb.predict(X_test)\n",
    "print('Test Score: ',metrics.accuracy_score(y_test, pipeline_nb_pred))"
   ]
  },
  {
   "cell_type": "markdown",
   "metadata": {},
   "source": [
    "### Classification Models: All Features + Tuning to the Random Forest Model\n",
    "\n",
    "Suspiciously, both SVM and Random Forest produced the same accuracy score of 75% (to several additional significant figures). For this next step, I will use Randomized Search to tune parameters passing into Random Forest."
   ]
  },
  {
   "cell_type": "markdown",
   "metadata": {},
   "source": [
    "#### Randomized Search for Random Forest"
   ]
  },
  {
   "cell_type": "code",
   "execution_count": 22,
   "metadata": {},
   "outputs": [
    {
     "name": "stdout",
     "output_type": "stream",
     "text": [
      "{'bootstrap': False, 'criterion': 'gini', 'max_depth': 3, 'max_features': 10, 'min_samples_leaf': 9, 'min_samples_split': 9}\n"
     ]
    }
   ],
   "source": [
    "from scipy.stats import randint\n",
    "from sklearn.model_selection import RandomizedSearchCV\n",
    "\n",
    "param_dist = {\"max_depth\": [3, None],\n",
    "              \"max_features\": randint(1, 25),\n",
    "              \"min_samples_split\": randint(2, 11),\n",
    "              \"min_samples_leaf\": randint(1, 11),\n",
    "              \"bootstrap\": [True, False],\n",
    "              \"criterion\": [\"gini\", \"entropy\"]}\n",
    "# run randomized search\n",
    "n_iter_search = 20\n",
    "random_search = RandomizedSearchCV(rf_clf, param_distributions=param_dist,\n",
    "                                   n_iter=n_iter_search)\n",
    "\n",
    "random_search.fit(X_train, y_train)\n",
    "print(random_search.best_params_)"
   ]
  },
  {
   "cell_type": "code",
   "execution_count": 33,
   "metadata": {},
   "outputs": [
    {
     "name": "stdout",
     "output_type": "stream",
     "text": [
      "Test Score:  0.748447204969\n"
     ]
    }
   ],
   "source": [
    "rf_tuned_clf = RandomForestClassifier(bootstrap=False, \n",
    "                                      criterion='gini', \n",
    "                                      max_depth=3, \n",
    "                                      max_features=10, \n",
    "                                      min_samples_leaf=9, \n",
    "                                      min_samples_split=9)\n",
    "\n",
    "rf_tuned_clf.fit(X_train, y_train)\n",
    "rf_tuned_clf_pred = rf_tuned_clf.predict(X_test)\n",
    "print('Test Score: ',metrics.accuracy_score(y_test, rf_tuned_clf_pred))"
   ]
  },
  {
   "cell_type": "markdown",
   "metadata": {},
   "source": [
    "The score went up a smidge by just tuning Random Forest, but there's still a lot to be desired."
   ]
  },
  {
   "cell_type": "markdown",
   "metadata": {},
   "source": [
    "### Classification Models: Some Features\n",
    "\n",
    "My assumption are that there are at least 20 different \"acts\" that show up per dialogue. This many acts, considered as features, may be overwhelming to the models. For the next iteration, I will keep the top 5 acts (not including Inform, which I removed earlier) and rerun the models."
   ]
  },
  {
   "cell_type": "code",
   "execution_count": 115,
   "metadata": {},
   "outputs": [
    {
     "data": {
      "text/plain": [
       "Counter({'affirm': 543,\n",
       "         'canthelp': 61,\n",
       "         'confirm': 384,\n",
       "         'goodbye': 229,\n",
       "         'greeting': 603,\n",
       "         'hearmore': 100,\n",
       "         'inform': 10918,\n",
       "         'moreinfo': 244,\n",
       "         'negate': 391,\n",
       "         'no_result': 1218,\n",
       "         'offer': 4097,\n",
       "         'reject': 14,\n",
       "         'request': 3438,\n",
       "         'request_alts': 216,\n",
       "         'request_compare': 214,\n",
       "         'sorry': 756,\n",
       "         'suggest': 1821,\n",
       "         'switch_frame': 2102,\n",
       "         'thankyou': 859,\n",
       "         'you_are_welcome': 87})"
      ]
     },
     "execution_count": 115,
     "metadata": {},
     "output_type": "execute_result"
    }
   ],
   "source": [
    "# Reminder of act frequencies\n",
    "Counter(flat_list)"
   ]
  },
  {
   "cell_type": "code",
   "execution_count": 41,
   "metadata": {
    "collapsed": true
   },
   "outputs": [],
   "source": [
    "# New, cleaned data set with top 5 acts present, excluding inform: offer, request, switch_frame, suggest, no_result\n",
    "\n",
    "cleaned2 = pd.concat([(cleaned.iloc[:,0:7]), cleaned['acts_switch_frame'], cleaned['acts_request'], \n",
    "                     cleaned['acts_offer'], cleaned['text_polarity'], cleaned['text_subjectivity']], axis=1)\n",
    "\n",
    "# New train and test sets\n",
    "\n",
    "y2 = cleaned2.iloc[:,0]\n",
    "X2 = cleaned2.iloc[:,1::]\n",
    "\n",
    "X2_train, X2_test, y2_train, y2_test = model_selection.train_test_split(X2, y2, test_size=0.25, random_state=33)"
   ]
  },
  {
   "cell_type": "code",
   "execution_count": 44,
   "metadata": {},
   "outputs": [
    {
     "name": "stdout",
     "output_type": "stream",
     "text": [
      "{'bootstrap': False, 'criterion': 'gini', 'max_depth': 3, 'max_features': 9, 'min_samples_leaf': 8, 'min_samples_split': 8}\n"
     ]
    }
   ],
   "source": [
    "# New randomized search for the new X matrix\n",
    "param_dist2 = {\"max_depth\": [3, None],\n",
    "              \"max_features\": randint(1, 11),\n",
    "              \"min_samples_split\": randint(2, 11),\n",
    "              \"min_samples_leaf\": randint(1, 11),\n",
    "              \"bootstrap\": [True, False],\n",
    "              \"criterion\": [\"gini\", \"entropy\"]}\n",
    "random_search2 = RandomizedSearchCV(rf_clf, param_distributions=param_dist2,\n",
    "                                   n_iter=n_iter_search)\n",
    "\n",
    "random_search2.fit(X2_train, y2_train)\n",
    "print(random_search2.best_params_)"
   ]
  },
  {
   "cell_type": "code",
   "execution_count": 45,
   "metadata": {},
   "outputs": [
    {
     "name": "stdout",
     "output_type": "stream",
     "text": [
      "Test Score:  0.729813664596\n"
     ]
    }
   ],
   "source": [
    "rf_tuned_clf2 = RandomForestClassifier(bootstrap=False, \n",
    "                                      criterion='gini', \n",
    "                                      max_depth=3, \n",
    "                                      max_features=9, \n",
    "                                      min_samples_leaf=8, \n",
    "                                      min_samples_split=8)\n",
    "\n",
    "rf_tuned_clf2.fit(X2_train, y2_train)\n",
    "rf_tuned_clf2_pred = rf_tuned_clf2.predict(X2_test)\n",
    "print('Test Score: ',metrics.accuracy_score(y2_test, rf_tuned_clf2_pred))"
   ]
  },
  {
   "cell_type": "markdown",
   "metadata": {},
   "source": [
    "This test score is even worse :("
   ]
  },
  {
   "cell_type": "markdown",
   "metadata": {},
   "source": [
    "### Classification Models: No Acts\n",
    "\n",
    "For this last attempt, I am removing acts from the X matrix and just retaining other features, like number of turns and sentiment analysis."
   ]
  },
  {
   "cell_type": "code",
   "execution_count": 50,
   "metadata": {
    "collapsed": true
   },
   "outputs": [],
   "source": [
    "# New, cleaned data set with top 5 acts present, excluding inform: offer, request, switch_frame, suggest, no_result\n",
    "\n",
    "cleaned3 = pd.concat([(cleaned.iloc[:,0:5]), cleaned['text_polarity'], cleaned['text_subjectivity']], axis=1)\n",
    "\n",
    "# New train and test sets\n",
    "\n",
    "y3 = cleaned3.iloc[:,0]\n",
    "X3 = cleaned3.iloc[:,1::]\n",
    "\n",
    "X3_train, X3_test, y3_train, y3_test = model_selection.train_test_split(X3, y3, test_size=0.25, random_state=33)"
   ]
  },
  {
   "cell_type": "code",
   "execution_count": 51,
   "metadata": {},
   "outputs": [
    {
     "name": "stdout",
     "output_type": "stream",
     "text": [
      "{'bootstrap': False, 'criterion': 'gini', 'max_depth': 3, 'max_features': 1, 'min_samples_leaf': 4, 'min_samples_split': 9}\n"
     ]
    }
   ],
   "source": [
    "# Randomized search\n",
    "param_dist3 = {\"max_depth\": [3, None],\n",
    "              \"max_features\": randint(1, 6),\n",
    "              \"min_samples_split\": randint(2, 11),\n",
    "              \"min_samples_leaf\": randint(1, 11),\n",
    "              \"bootstrap\": [True, False],\n",
    "              \"criterion\": [\"gini\", \"entropy\"]}\n",
    "random_search3 = RandomizedSearchCV(rf_clf, param_distributions=param_dist3,\n",
    "                                   n_iter=n_iter_search)\n",
    "\n",
    "random_search3.fit(X3_train, y3_train)\n",
    "print(random_search3.best_params_)"
   ]
  },
  {
   "cell_type": "code",
   "execution_count": 52,
   "metadata": {},
   "outputs": [
    {
     "name": "stdout",
     "output_type": "stream",
     "text": [
      "Test Score:  0.745341614907\n"
     ]
    }
   ],
   "source": [
    "rf_tuned_clf3 = RandomForestClassifier(bootstrap=False, \n",
    "                                      criterion='gini', \n",
    "                                      max_depth=3, \n",
    "                                      max_features=1, \n",
    "                                      min_samples_leaf=4, \n",
    "                                      min_samples_split=9)\n",
    "\n",
    "rf_tuned_clf3.fit(X3_train, y3_train)\n",
    "rf_tuned_clf3_pred = rf_tuned_clf3.predict(X3_test)\n",
    "print('Test Score: ',metrics.accuracy_score(y3_test, rf_tuned_clf3_pred))"
   ]
  },
  {
   "cell_type": "markdown",
   "metadata": {},
   "source": [
    "¯\\_(ツ)_/¯"
   ]
  },
  {
   "cell_type": "code",
   "execution_count": null,
   "metadata": {
    "collapsed": true
   },
   "outputs": [],
   "source": []
  }
 ],
 "metadata": {
  "kernelspec": {
   "display_name": "Python 3",
   "language": "python",
   "name": "python3"
  },
  "language_info": {
   "codemirror_mode": {
    "name": "ipython",
    "version": 3
   },
   "file_extension": ".py",
   "mimetype": "text/x-python",
   "name": "python",
   "nbconvert_exporter": "python",
   "pygments_lexer": "ipython3",
   "version": "3.6.1"
  }
 },
 "nbformat": 4,
 "nbformat_minor": 2
}
